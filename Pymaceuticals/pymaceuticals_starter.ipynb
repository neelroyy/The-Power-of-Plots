{
 "cells": [
  {
   "cell_type": "markdown",
   "metadata": {},
   "source": [
    "## Observations and Insights "
   ]
  },
  {
   "cell_type": "markdown",
   "metadata": {},
   "source": []
  },
  {
   "cell_type": "code",
   "execution_count": 217,
   "metadata": {},
   "outputs": [
    {
     "data": {
      "text/html": [
       "<div>\n",
       "<style scoped>\n",
       "    .dataframe tbody tr th:only-of-type {\n",
       "        vertical-align: middle;\n",
       "    }\n",
       "\n",
       "    .dataframe tbody tr th {\n",
       "        vertical-align: top;\n",
       "    }\n",
       "\n",
       "    .dataframe thead th {\n",
       "        text-align: right;\n",
       "    }\n",
       "</style>\n",
       "<table border=\"1\" class=\"dataframe\">\n",
       "  <thead>\n",
       "    <tr style=\"text-align: right;\">\n",
       "      <th></th>\n",
       "      <th>Mouse ID</th>\n",
       "      <th>Drug Regimen</th>\n",
       "      <th>Sex</th>\n",
       "      <th>Age_months</th>\n",
       "      <th>Weight (g)</th>\n",
       "      <th>Timepoint</th>\n",
       "      <th>Tumor Volume (mm3)</th>\n",
       "      <th>Metastatic Sites</th>\n",
       "    </tr>\n",
       "  </thead>\n",
       "  <tbody>\n",
       "    <tr>\n",
       "      <th>0</th>\n",
       "      <td>k403</td>\n",
       "      <td>Ramicane</td>\n",
       "      <td>Male</td>\n",
       "      <td>21</td>\n",
       "      <td>16</td>\n",
       "      <td>0</td>\n",
       "      <td>45.000000</td>\n",
       "      <td>0</td>\n",
       "    </tr>\n",
       "    <tr>\n",
       "      <th>1</th>\n",
       "      <td>k403</td>\n",
       "      <td>Ramicane</td>\n",
       "      <td>Male</td>\n",
       "      <td>21</td>\n",
       "      <td>16</td>\n",
       "      <td>5</td>\n",
       "      <td>38.825898</td>\n",
       "      <td>0</td>\n",
       "    </tr>\n",
       "    <tr>\n",
       "      <th>2</th>\n",
       "      <td>k403</td>\n",
       "      <td>Ramicane</td>\n",
       "      <td>Male</td>\n",
       "      <td>21</td>\n",
       "      <td>16</td>\n",
       "      <td>10</td>\n",
       "      <td>35.014271</td>\n",
       "      <td>1</td>\n",
       "    </tr>\n",
       "    <tr>\n",
       "      <th>3</th>\n",
       "      <td>k403</td>\n",
       "      <td>Ramicane</td>\n",
       "      <td>Male</td>\n",
       "      <td>21</td>\n",
       "      <td>16</td>\n",
       "      <td>15</td>\n",
       "      <td>34.223992</td>\n",
       "      <td>1</td>\n",
       "    </tr>\n",
       "    <tr>\n",
       "      <th>4</th>\n",
       "      <td>k403</td>\n",
       "      <td>Ramicane</td>\n",
       "      <td>Male</td>\n",
       "      <td>21</td>\n",
       "      <td>16</td>\n",
       "      <td>20</td>\n",
       "      <td>32.997729</td>\n",
       "      <td>1</td>\n",
       "    </tr>\n",
       "  </tbody>\n",
       "</table>\n",
       "</div>"
      ],
      "text/plain": [
       "  Mouse ID Drug Regimen   Sex  Age_months  Weight (g)  Timepoint  \\\n",
       "0     k403     Ramicane  Male          21          16          0   \n",
       "1     k403     Ramicane  Male          21          16          5   \n",
       "2     k403     Ramicane  Male          21          16         10   \n",
       "3     k403     Ramicane  Male          21          16         15   \n",
       "4     k403     Ramicane  Male          21          16         20   \n",
       "\n",
       "   Tumor Volume (mm3)  Metastatic Sites  \n",
       "0           45.000000                 0  \n",
       "1           38.825898                 0  \n",
       "2           35.014271                 1  \n",
       "3           34.223992                 1  \n",
       "4           32.997729                 1  "
      ]
     },
     "execution_count": 217,
     "metadata": {},
     "output_type": "execute_result"
    }
   ],
   "source": [
    "# Dependencies and Setup\n",
    "import matplotlib.pyplot as plt\n",
    "import pandas as pd\n",
    "import scipy.stats as st\n",
    "\n",
    "# Study data files\n",
    "mouse_metadata_path = \"data/Mouse_metadata.csv\"\n",
    "study_results_path = \"data/Study_results.csv\"\n",
    "\n",
    "# Read the mouse data and the study results\n",
    "mouse_metadata = pd.read_csv(mouse_metadata_path)\n",
    "study_results = pd.read_csv(study_results_path)\n",
    "\n",
    "# # Combine the data into a single dataset\n",
    "combine_data = pd.merge(mouse_metadata, study_results, on='Mouse ID',  how='outer')\n",
    "\n",
    "# # Display the data table for preview\n",
    "combine_data.head()"
   ]
  },
  {
   "cell_type": "code",
   "execution_count": 204,
   "metadata": {},
   "outputs": [
    {
     "data": {
      "text/plain": [
       "249"
      ]
     },
     "execution_count": 204,
     "metadata": {},
     "output_type": "execute_result"
    }
   ],
   "source": [
    "# Checking the number of mice .\n",
    "count_mice = combine_data[\"Mouse ID\"].value_counts()\n",
    "#count_mice\n",
    "len(count_mice)"
   ]
  },
  {
   "cell_type": "code",
   "execution_count": 205,
   "metadata": {},
   "outputs": [
    {
     "data": {
      "text/plain": [
       "array(['g989'], dtype=object)"
      ]
     },
     "execution_count": 205,
     "metadata": {},
     "output_type": "execute_result"
    }
   ],
   "source": [
    "# Getting the duplicate mice by ID number that shows up for Mouse ID and Timepoint. \n",
    "#combine_data = combine_data.fillna(0)\n",
    "#duplicate_mouse_id = combine_data.duplicated([\"Mouse ID\", \"Timepoint\"])\n",
    "test = combine_data.loc[combine_data.duplicated(subset=['Mouse ID', 'Timepoint']), :]\n",
    "Mouse_ID_duplicate = pd.unique(test['Mouse ID'])\n",
    "Mouse_ID_duplicate"
   ]
  },
  {
   "cell_type": "code",
   "execution_count": 221,
   "metadata": {},
   "outputs": [],
   "source": [
    "# Optional: Get all the data for the duplicate mouse ID. \n"
   ]
  },
  {
   "cell_type": "code",
   "execution_count": 227,
   "metadata": {},
   "outputs": [
    {
     "data": {
      "text/html": [
       "<div>\n",
       "<style scoped>\n",
       "    .dataframe tbody tr th:only-of-type {\n",
       "        vertical-align: middle;\n",
       "    }\n",
       "\n",
       "    .dataframe tbody tr th {\n",
       "        vertical-align: top;\n",
       "    }\n",
       "\n",
       "    .dataframe thead th {\n",
       "        text-align: right;\n",
       "    }\n",
       "</style>\n",
       "<table border=\"1\" class=\"dataframe\">\n",
       "  <thead>\n",
       "    <tr style=\"text-align: right;\">\n",
       "      <th></th>\n",
       "      <th>Mouse ID</th>\n",
       "      <th>Drug Regimen</th>\n",
       "      <th>Sex</th>\n",
       "      <th>Age_months</th>\n",
       "      <th>Weight (g)</th>\n",
       "      <th>Timepoint</th>\n",
       "      <th>Tumor Volume (mm3)</th>\n",
       "      <th>Metastatic Sites</th>\n",
       "    </tr>\n",
       "  </thead>\n",
       "  <tbody>\n",
       "    <tr>\n",
       "      <th>0</th>\n",
       "      <td>k403</td>\n",
       "      <td>Ramicane</td>\n",
       "      <td>Male</td>\n",
       "      <td>21</td>\n",
       "      <td>16</td>\n",
       "      <td>0</td>\n",
       "      <td>45.000000</td>\n",
       "      <td>0</td>\n",
       "    </tr>\n",
       "    <tr>\n",
       "      <th>1</th>\n",
       "      <td>k403</td>\n",
       "      <td>Ramicane</td>\n",
       "      <td>Male</td>\n",
       "      <td>21</td>\n",
       "      <td>16</td>\n",
       "      <td>5</td>\n",
       "      <td>38.825898</td>\n",
       "      <td>0</td>\n",
       "    </tr>\n",
       "    <tr>\n",
       "      <th>2</th>\n",
       "      <td>k403</td>\n",
       "      <td>Ramicane</td>\n",
       "      <td>Male</td>\n",
       "      <td>21</td>\n",
       "      <td>16</td>\n",
       "      <td>10</td>\n",
       "      <td>35.014271</td>\n",
       "      <td>1</td>\n",
       "    </tr>\n",
       "    <tr>\n",
       "      <th>3</th>\n",
       "      <td>k403</td>\n",
       "      <td>Ramicane</td>\n",
       "      <td>Male</td>\n",
       "      <td>21</td>\n",
       "      <td>16</td>\n",
       "      <td>15</td>\n",
       "      <td>34.223992</td>\n",
       "      <td>1</td>\n",
       "    </tr>\n",
       "    <tr>\n",
       "      <th>4</th>\n",
       "      <td>k403</td>\n",
       "      <td>Ramicane</td>\n",
       "      <td>Male</td>\n",
       "      <td>21</td>\n",
       "      <td>16</td>\n",
       "      <td>20</td>\n",
       "      <td>32.997729</td>\n",
       "      <td>1</td>\n",
       "    </tr>\n",
       "    <tr>\n",
       "      <th>...</th>\n",
       "      <td>...</td>\n",
       "      <td>...</td>\n",
       "      <td>...</td>\n",
       "      <td>...</td>\n",
       "      <td>...</td>\n",
       "      <td>...</td>\n",
       "      <td>...</td>\n",
       "      <td>...</td>\n",
       "    </tr>\n",
       "    <tr>\n",
       "      <th>1888</th>\n",
       "      <td>z969</td>\n",
       "      <td>Naftisol</td>\n",
       "      <td>Male</td>\n",
       "      <td>9</td>\n",
       "      <td>30</td>\n",
       "      <td>25</td>\n",
       "      <td>63.145652</td>\n",
       "      <td>2</td>\n",
       "    </tr>\n",
       "    <tr>\n",
       "      <th>1889</th>\n",
       "      <td>z969</td>\n",
       "      <td>Naftisol</td>\n",
       "      <td>Male</td>\n",
       "      <td>9</td>\n",
       "      <td>30</td>\n",
       "      <td>30</td>\n",
       "      <td>65.841013</td>\n",
       "      <td>3</td>\n",
       "    </tr>\n",
       "    <tr>\n",
       "      <th>1890</th>\n",
       "      <td>z969</td>\n",
       "      <td>Naftisol</td>\n",
       "      <td>Male</td>\n",
       "      <td>9</td>\n",
       "      <td>30</td>\n",
       "      <td>35</td>\n",
       "      <td>69.176246</td>\n",
       "      <td>4</td>\n",
       "    </tr>\n",
       "    <tr>\n",
       "      <th>1891</th>\n",
       "      <td>z969</td>\n",
       "      <td>Naftisol</td>\n",
       "      <td>Male</td>\n",
       "      <td>9</td>\n",
       "      <td>30</td>\n",
       "      <td>40</td>\n",
       "      <td>70.314904</td>\n",
       "      <td>4</td>\n",
       "    </tr>\n",
       "    <tr>\n",
       "      <th>1892</th>\n",
       "      <td>z969</td>\n",
       "      <td>Naftisol</td>\n",
       "      <td>Male</td>\n",
       "      <td>9</td>\n",
       "      <td>30</td>\n",
       "      <td>45</td>\n",
       "      <td>73.867845</td>\n",
       "      <td>4</td>\n",
       "    </tr>\n",
       "  </tbody>\n",
       "</table>\n",
       "<p>1883 rows × 8 columns</p>\n",
       "</div>"
      ],
      "text/plain": [
       "     Mouse ID Drug Regimen   Sex  Age_months  Weight (g)  Timepoint  \\\n",
       "0        k403     Ramicane  Male          21          16          0   \n",
       "1        k403     Ramicane  Male          21          16          5   \n",
       "2        k403     Ramicane  Male          21          16         10   \n",
       "3        k403     Ramicane  Male          21          16         15   \n",
       "4        k403     Ramicane  Male          21          16         20   \n",
       "...       ...          ...   ...         ...         ...        ...   \n",
       "1888     z969     Naftisol  Male           9          30         25   \n",
       "1889     z969     Naftisol  Male           9          30         30   \n",
       "1890     z969     Naftisol  Male           9          30         35   \n",
       "1891     z969     Naftisol  Male           9          30         40   \n",
       "1892     z969     Naftisol  Male           9          30         45   \n",
       "\n",
       "      Tumor Volume (mm3)  Metastatic Sites  \n",
       "0              45.000000                 0  \n",
       "1              38.825898                 0  \n",
       "2              35.014271                 1  \n",
       "3              34.223992                 1  \n",
       "4              32.997729                 1  \n",
       "...                  ...               ...  \n",
       "1888           63.145652                 2  \n",
       "1889           65.841013                 3  \n",
       "1890           69.176246                 4  \n",
       "1891           70.314904                 4  \n",
       "1892           73.867845                 4  \n",
       "\n",
       "[1883 rows x 8 columns]"
      ]
     },
     "execution_count": 227,
     "metadata": {},
     "output_type": "execute_result"
    }
   ],
   "source": [
    "# Create a clean DataFrame by dropping the duplicate mouse by its ID.\n",
    "new_data = (combine_data.drop_duplicates(['Mouse ID', 'Timepoint'],keep=False)) \n",
    "new_data"
   ]
  },
  {
   "cell_type": "code",
   "execution_count": 228,
   "metadata": {},
   "outputs": [],
   "source": [
    "# Checking the number of mice in the clean DataFrame.\n"
   ]
  },
  {
   "cell_type": "markdown",
   "metadata": {},
   "source": [
    "## Summary Statistics"
   ]
  },
  {
   "cell_type": "code",
   "execution_count": 154,
   "metadata": {},
   "outputs": [
    {
     "data": {
      "text/html": [
       "<div>\n",
       "<style scoped>\n",
       "    .dataframe tbody tr th:only-of-type {\n",
       "        vertical-align: middle;\n",
       "    }\n",
       "\n",
       "    .dataframe tbody tr th {\n",
       "        vertical-align: top;\n",
       "    }\n",
       "\n",
       "    .dataframe thead th {\n",
       "        text-align: right;\n",
       "    }\n",
       "</style>\n",
       "<table border=\"1\" class=\"dataframe\">\n",
       "  <thead>\n",
       "    <tr style=\"text-align: right;\">\n",
       "      <th></th>\n",
       "      <th>Tumor Volume (mm3)</th>\n",
       "      <th>Tumor Volume (mm3)</th>\n",
       "      <th>Tumor Volume (mm3)</th>\n",
       "      <th>Tumor Volume (mm3)</th>\n",
       "      <th>Tumor Volume (mm3)</th>\n",
       "    </tr>\n",
       "    <tr>\n",
       "      <th>Drug Regimen</th>\n",
       "      <th></th>\n",
       "      <th></th>\n",
       "      <th></th>\n",
       "      <th></th>\n",
       "      <th></th>\n",
       "    </tr>\n",
       "  </thead>\n",
       "  <tbody>\n",
       "    <tr>\n",
       "      <th>Capomulin</th>\n",
       "      <td>40.675741</td>\n",
       "      <td>41.557809</td>\n",
       "      <td>24.947764</td>\n",
       "      <td>4.994774</td>\n",
       "      <td>0.329346</td>\n",
       "    </tr>\n",
       "    <tr>\n",
       "      <th>Ceftamin</th>\n",
       "      <td>52.591172</td>\n",
       "      <td>51.776157</td>\n",
       "      <td>39.290177</td>\n",
       "      <td>6.268188</td>\n",
       "      <td>0.469821</td>\n",
       "    </tr>\n",
       "    <tr>\n",
       "      <th>Infubinol</th>\n",
       "      <td>52.884795</td>\n",
       "      <td>51.820584</td>\n",
       "      <td>43.128684</td>\n",
       "      <td>6.567243</td>\n",
       "      <td>0.492236</td>\n",
       "    </tr>\n",
       "    <tr>\n",
       "      <th>Ketapril</th>\n",
       "      <td>55.235638</td>\n",
       "      <td>53.698743</td>\n",
       "      <td>68.553577</td>\n",
       "      <td>8.279709</td>\n",
       "      <td>0.603860</td>\n",
       "    </tr>\n",
       "    <tr>\n",
       "      <th>Naftisol</th>\n",
       "      <td>54.331565</td>\n",
       "      <td>52.509285</td>\n",
       "      <td>66.173479</td>\n",
       "      <td>8.134708</td>\n",
       "      <td>0.596466</td>\n",
       "    </tr>\n",
       "    <tr>\n",
       "      <th>Placebo</th>\n",
       "      <td>54.033581</td>\n",
       "      <td>52.288934</td>\n",
       "      <td>61.168083</td>\n",
       "      <td>7.821003</td>\n",
       "      <td>0.581331</td>\n",
       "    </tr>\n",
       "    <tr>\n",
       "      <th>Propriva</th>\n",
       "      <td>52.322552</td>\n",
       "      <td>50.854632</td>\n",
       "      <td>42.351070</td>\n",
       "      <td>6.507770</td>\n",
       "      <td>0.512884</td>\n",
       "    </tr>\n",
       "    <tr>\n",
       "      <th>Ramicane</th>\n",
       "      <td>40.216745</td>\n",
       "      <td>40.673236</td>\n",
       "      <td>23.486704</td>\n",
       "      <td>4.846308</td>\n",
       "      <td>0.320955</td>\n",
       "    </tr>\n",
       "    <tr>\n",
       "      <th>Stelasyn</th>\n",
       "      <td>54.233149</td>\n",
       "      <td>52.431737</td>\n",
       "      <td>59.450562</td>\n",
       "      <td>7.710419</td>\n",
       "      <td>0.573111</td>\n",
       "    </tr>\n",
       "    <tr>\n",
       "      <th>Zoniferol</th>\n",
       "      <td>53.236507</td>\n",
       "      <td>51.818479</td>\n",
       "      <td>48.533355</td>\n",
       "      <td>6.966589</td>\n",
       "      <td>0.516398</td>\n",
       "    </tr>\n",
       "  </tbody>\n",
       "</table>\n",
       "</div>"
      ],
      "text/plain": [
       "              Tumor Volume (mm3)  Tumor Volume (mm3)  Tumor Volume (mm3)  \\\n",
       "Drug Regimen                                                               \n",
       "Capomulin              40.675741           41.557809           24.947764   \n",
       "Ceftamin               52.591172           51.776157           39.290177   \n",
       "Infubinol              52.884795           51.820584           43.128684   \n",
       "Ketapril               55.235638           53.698743           68.553577   \n",
       "Naftisol               54.331565           52.509285           66.173479   \n",
       "Placebo                54.033581           52.288934           61.168083   \n",
       "Propriva               52.322552           50.854632           42.351070   \n",
       "Ramicane               40.216745           40.673236           23.486704   \n",
       "Stelasyn               54.233149           52.431737           59.450562   \n",
       "Zoniferol              53.236507           51.818479           48.533355   \n",
       "\n",
       "              Tumor Volume (mm3)  Tumor Volume (mm3)  \n",
       "Drug Regimen                                          \n",
       "Capomulin               4.994774            0.329346  \n",
       "Ceftamin                6.268188            0.469821  \n",
       "Infubinol               6.567243            0.492236  \n",
       "Ketapril                8.279709            0.603860  \n",
       "Naftisol                8.134708            0.596466  \n",
       "Placebo                 7.821003            0.581331  \n",
       "Propriva                6.507770            0.512884  \n",
       "Ramicane                4.846308            0.320955  \n",
       "Stelasyn                7.710419            0.573111  \n",
       "Zoniferol               6.966589            0.516398  "
      ]
     },
     "execution_count": 154,
     "metadata": {},
     "output_type": "execute_result"
    }
   ],
   "source": [
    "# Generate a summary statistics table of mean, median, variance, standard deviation, and SEM of the tumor volume for each regimen\n",
    "# Use groupby and summary statistical methods to calculate the following properties of each drug regimen: \n",
    "# mean, median, variance, standard deviation, and SEM of the tumor volume. \n",
    "# Assemble the resulting series into a single summary dataframe.\n",
    "\n",
    "combine_data_mean = combine_data.groupby([\"Drug Regimen\"]).mean()\n",
    "combine_data_median = combine_data.groupby([\"Drug Regimen\"]).median()\n",
    "combine_data_variance = combine_data.groupby([\"Drug Regimen\"]).var()\n",
    "combine_data_standard_deviation = combine_data.groupby([\"Drug Regimen\"]).std()\n",
    "combine_data_standard_SEM = combine_data.groupby([\"Drug Regimen\"]).sem()\n",
    "\n",
    "summary_statistics_table = pd.concat([combine_data_mean[\"Tumor Volume (mm3)\"], \n",
    "                                      combine_data_median[\"Tumor Volume (mm3)\"], \n",
    "                                      combine_data_variance[\"Tumor Volume (mm3)\"], \n",
    "                                      combine_data_standard_deviation[\"Tumor Volume (mm3)\"], \n",
    "                                      combine_data_standard_SEM[\"Tumor Volume (mm3)\"]], axis = 1)\n",
    "#Print summary_statistics_table\n",
    "summary_statistics_table\n"
   ]
  },
  {
   "cell_type": "code",
   "execution_count": 159,
   "metadata": {},
   "outputs": [
    {
     "data": {
      "text/html": [
       "<div>\n",
       "<style scoped>\n",
       "    .dataframe tbody tr th:only-of-type {\n",
       "        vertical-align: middle;\n",
       "    }\n",
       "\n",
       "    .dataframe tbody tr th {\n",
       "        vertical-align: top;\n",
       "    }\n",
       "\n",
       "    .dataframe thead th {\n",
       "        text-align: right;\n",
       "    }\n",
       "</style>\n",
       "<table border=\"1\" class=\"dataframe\">\n",
       "  <thead>\n",
       "    <tr style=\"text-align: right;\">\n",
       "      <th></th>\n",
       "      <th>mean</th>\n",
       "      <th>median</th>\n",
       "      <th>var</th>\n",
       "      <th>std</th>\n",
       "      <th>sem</th>\n",
       "    </tr>\n",
       "    <tr>\n",
       "      <th>Drug Regimen</th>\n",
       "      <th></th>\n",
       "      <th></th>\n",
       "      <th></th>\n",
       "      <th></th>\n",
       "      <th></th>\n",
       "    </tr>\n",
       "  </thead>\n",
       "  <tbody>\n",
       "    <tr>\n",
       "      <th>Capomulin</th>\n",
       "      <td>40.675741</td>\n",
       "      <td>41.557809</td>\n",
       "      <td>24.947764</td>\n",
       "      <td>4.994774</td>\n",
       "      <td>0.329346</td>\n",
       "    </tr>\n",
       "    <tr>\n",
       "      <th>Ceftamin</th>\n",
       "      <td>52.591172</td>\n",
       "      <td>51.776157</td>\n",
       "      <td>39.290177</td>\n",
       "      <td>6.268188</td>\n",
       "      <td>0.469821</td>\n",
       "    </tr>\n",
       "    <tr>\n",
       "      <th>Infubinol</th>\n",
       "      <td>52.884795</td>\n",
       "      <td>51.820584</td>\n",
       "      <td>43.128684</td>\n",
       "      <td>6.567243</td>\n",
       "      <td>0.492236</td>\n",
       "    </tr>\n",
       "    <tr>\n",
       "      <th>Ketapril</th>\n",
       "      <td>55.235638</td>\n",
       "      <td>53.698743</td>\n",
       "      <td>68.553577</td>\n",
       "      <td>8.279709</td>\n",
       "      <td>0.603860</td>\n",
       "    </tr>\n",
       "    <tr>\n",
       "      <th>Naftisol</th>\n",
       "      <td>54.331565</td>\n",
       "      <td>52.509285</td>\n",
       "      <td>66.173479</td>\n",
       "      <td>8.134708</td>\n",
       "      <td>0.596466</td>\n",
       "    </tr>\n",
       "  </tbody>\n",
       "</table>\n",
       "</div>"
      ],
      "text/plain": [
       "                   mean     median        var       std       sem\n",
       "Drug Regimen                                                     \n",
       "Capomulin     40.675741  41.557809  24.947764  4.994774  0.329346\n",
       "Ceftamin      52.591172  51.776157  39.290177  6.268188  0.469821\n",
       "Infubinol     52.884795  51.820584  43.128684  6.567243  0.492236\n",
       "Ketapril      55.235638  53.698743  68.553577  8.279709  0.603860\n",
       "Naftisol      54.331565  52.509285  66.173479  8.134708  0.596466"
      ]
     },
     "execution_count": 159,
     "metadata": {},
     "output_type": "execute_result"
    }
   ],
   "source": [
    "# Generate a summary statistics table of mean, median, variance, standard deviation, and SEM of the tumor volume for each regimen\n",
    "# Using the aggregation method, produce the same summary statistics in a single line\n",
    "\n",
    "summary_statistics_Table_df = combine_data.groupby('Drug Regimen')\n",
    "tumor_mean = summary_statistics_Table_df['Tumor Volume (mm3)'].mean()\n",
    "tumor_median = summary_statistics_Table_df['Tumor Volume (mm3)'].median()\n",
    "tumor_var = summary_statistics_Table_df['Tumor Volume (mm3)'].var()\n",
    "tumor_stdev = summary_statistics_Table_df['Tumor Volume (mm3)'].std()\n",
    "tumor_sem = summary_statistics_Table_df['Tumor Volume (mm3)'].sem()\n",
    "\n",
    "# Create DataFrame to summarize calculations\n",
    "summary_grouped_df = pd.DataFrame({'mean': tumor_mean, 'median': tumor_median,\n",
    "                                   'var': tumor_var,'std': tumor_stdev, 'sem': tumor_sem})\n",
    "\n",
    "summary_grouped_df.head()\n"
   ]
  },
  {
   "cell_type": "markdown",
   "metadata": {},
   "source": [
    "## Bar and Pie Charts"
   ]
  },
  {
   "cell_type": "code",
   "execution_count": 176,
   "metadata": {},
   "outputs": [
    {
     "data": {
      "text/plain": [
       "Text(0, 0.5, 'Number of Mice Tested')"
      ]
     },
     "execution_count": 176,
     "metadata": {},
     "output_type": "execute_result"
    },
    {
     "data": {
      "image/png": "[encoded data removed]",
      "text/plain": [
       "<Figure size 432x288 with 1 Axes>"
      ]
     },
     "metadata": {
      "needs_background": "light"
     },
     "output_type": "display_data"
    }
   ],
   "source": [
    "# Generate a bar plot showing the total number of timepoints for all mice tested for each drug regimen using Pandas.\n",
    "# Number of instances the \"Drug Regimen\" was used\n",
    "combine_data_count = combine_data.groupby([\"Drug Regimen\"]).count()\n",
    "#combine_data_count\n",
    "#Dropping all column except \"Mouse ID\" \n",
    "dropped_combine_data_count = combine_data_count.drop([\"Sex\", \n",
    "                                                            \"Age_months\", \n",
    "                                                            \"Weight (g)\", \n",
    "                                                            \"Timepoint\", \n",
    "                                                            \"Tumor Volume (mm3)\", \n",
    "                                                            \"Metastatic Sites\"], axis = 1)\n",
    "\n",
    "dropped_combine_data_count.sort_values('Mouse ID', ascending=False, inplace=True)\n",
    "\n",
    "pymaceuticals_bar_plot = dropped_combine_data_count.plot(kind = \"bar\", \n",
    "                                                            legend = False, \n",
    "                                                            alpha = 0.5, \n",
    "                                                            color = \"blue\", \n",
    "                                                            width = 0.5, \n",
    "                                                            ylim = (125, 250), \n",
    "                                                            rot = 90)\n",
    "# Axis labels\n",
    "pymaceuticals_bar_plot.set_xlabel(\"Drug Regimen\")\n",
    "pymaceuticals_bar_plot.set_ylabel(\"Number of Mice Tested\")\n"
   ]
  },
  {
   "cell_type": "code",
   "execution_count": 173,
   "metadata": {},
   "outputs": [
    {
     "data": {
      "text/html": [
       "<div>\n",
       "<style scoped>\n",
       "    .dataframe tbody tr th:only-of-type {\n",
       "        vertical-align: middle;\n",
       "    }\n",
       "\n",
       "    .dataframe tbody tr th {\n",
       "        vertical-align: top;\n",
       "    }\n",
       "\n",
       "    .dataframe thead th {\n",
       "        text-align: right;\n",
       "    }\n",
       "</style>\n",
       "<table border=\"1\" class=\"dataframe\">\n",
       "  <thead>\n",
       "    <tr style=\"text-align: right;\">\n",
       "      <th></th>\n",
       "      <th>Mouse ID</th>\n",
       "    </tr>\n",
       "    <tr>\n",
       "      <th>Drug Regimen</th>\n",
       "      <th></th>\n",
       "    </tr>\n",
       "  </thead>\n",
       "  <tbody>\n",
       "    <tr>\n",
       "      <th>Capomulin</th>\n",
       "      <td>230</td>\n",
       "    </tr>\n",
       "    <tr>\n",
       "      <th>Ceftamin</th>\n",
       "      <td>178</td>\n",
       "    </tr>\n",
       "    <tr>\n",
       "      <th>Infubinol</th>\n",
       "      <td>178</td>\n",
       "    </tr>\n",
       "    <tr>\n",
       "      <th>Ketapril</th>\n",
       "      <td>188</td>\n",
       "    </tr>\n",
       "    <tr>\n",
       "      <th>Naftisol</th>\n",
       "      <td>186</td>\n",
       "    </tr>\n",
       "    <tr>\n",
       "      <th>Placebo</th>\n",
       "      <td>181</td>\n",
       "    </tr>\n",
       "    <tr>\n",
       "      <th>Propriva</th>\n",
       "      <td>161</td>\n",
       "    </tr>\n",
       "    <tr>\n",
       "      <th>Ramicane</th>\n",
       "      <td>228</td>\n",
       "    </tr>\n",
       "    <tr>\n",
       "      <th>Stelasyn</th>\n",
       "      <td>181</td>\n",
       "    </tr>\n",
       "    <tr>\n",
       "      <th>Zoniferol</th>\n",
       "      <td>182</td>\n",
       "    </tr>\n",
       "  </tbody>\n",
       "</table>\n",
       "</div>"
      ],
      "text/plain": [
       "              Mouse ID\n",
       "Drug Regimen          \n",
       "Capomulin          230\n",
       "Ceftamin           178\n",
       "Infubinol          178\n",
       "Ketapril           188\n",
       "Naftisol           186\n",
       "Placebo            181\n",
       "Propriva           161\n",
       "Ramicane           228\n",
       "Stelasyn           181\n",
       "Zoniferol          182"
      ]
     },
     "execution_count": 173,
     "metadata": {},
     "output_type": "execute_result"
    }
   ],
   "source": [
    "dropped_combine_data_count"
   ]
  },
  {
   "cell_type": "code",
   "execution_count": 182,
   "metadata": {},
   "outputs": [
    {
     "data": {
      "image/png": "[encoded data removed]",
      "text/plain": [
       "<Figure size 432x288 with 1 Axes>"
      ]
     },
     "metadata": {
      "needs_background": "light"
     },
     "output_type": "display_data"
    }
   ],
   "source": [
    "# Generate a bar plot showing the total number of timepoints for all mice tested for each drug regimen using pyplot.\n",
    "# Creating an array\n",
    "mouse_id = [230, 178, 178, 188, 186, 181, 161, 228, 181, 182]\n",
    "x_axis = [0, 1, 2, 3, 4, 5, 6, 7, 8, 9]\n",
    "\n",
    "# Creating a graph with the two lists \n",
    "plt.bar(x_axis, mouse_id, color = \"blue\", alpha = 0.5, align = \"center\", width = 0.8)\n",
    "tick_locations = [value for value in x_axis]\n",
    "drug_regimen = [\"Capomulin\", \"Ceftamin\", \"Infubinol\", \"Ketapril\", \"Naftisol\", \n",
    "                \"Placebo\", \"Propriva\", \"Ramicane\", \"Stelasyn\", \"Zoniferol\"]\n",
    "plt.xticks(tick_locations, drug_regimen, rotation = 90)\n",
    "\n",
    "plt.xlabel(\"Drug Regimen\")\n",
    "plt.ylabel(\"Number of Mice Tested\")\n",
    "\n",
    "plt.ylim((125, 250))\n",
    "# Print\n",
    "plt.show()"
   ]
  },
  {
   "cell_type": "code",
   "execution_count": 183,
   "metadata": {},
   "outputs": [
    {
     "data": {
      "image/png": "[encoded data removed]",
      "text/plain": [
       "<Figure size 432x288 with 1 Axes>"
      ]
     },
     "metadata": {},
     "output_type": "display_data"
    }
   ],
   "source": [
    "# Generate a pie plot showing the distribution of female versus male mice using Pandas\n",
    "# groupby the Sex and count the number of female and male mice\n",
    "female_male_distribution = combine_data.groupby([\"Sex\"]).nunique()\n",
    "# Delete the extra columns\n",
    "del female_male_distribution[\"Drug Regimen\"]\n",
    "del female_male_distribution[\"Age_months\"]\n",
    "del female_male_distribution[\"Weight (g)\"]\n",
    "del female_male_distribution[\"Timepoint\"]\n",
    "del female_male_distribution[\"Tumor Volume (mm3)\"]\n",
    "del female_male_distribution[\"Metastatic Sites\"]\n",
    "\n",
    "pymaceuticals_pie_plot = female_male_distribution.plot.pie(y = \"Mouse ID\", \n",
    "                                                           autopct = '%1.1f%%', \n",
    "                                                           legend = False, \n",
    "                                                           title = \"Distribution of Female Mice versus Male Mice\", \n",
    "                                                           colors = [\"blue\", \"orange\"])\n"
   ]
  },
  {
   "cell_type": "code",
   "execution_count": 185,
   "metadata": {},
   "outputs": [
    {
     "data": {
      "image/png": "[encoded data removed]",
      "text/plain": [
       "<Figure size 432x288 with 1 Axes>"
      ]
     },
     "metadata": {},
     "output_type": "display_data"
    }
   ],
   "source": [
    "# Generate a pie plot showing the distribution of female versus male mice using matplotlib (aka pyplot, plt)\n",
    "labels = [\"Female\", \"Male\"]\n",
    "sizes = [124, 125]\n",
    "colors = [\"blue\", \"orange\"]\n",
    "# Creates the pie chart\n",
    "plt.pie(sizes, labels = labels, colors = colors, autopct = \"%1.1f%%\")\n",
    "plt.title(\"Distribution of Female Mice versus Male Mice\")\n",
    "plt.ylabel(\"Mouse ID\")\n",
    "plt.show()"
   ]
  },
  {
   "cell_type": "markdown",
   "metadata": {},
   "source": [
    "## Quartiles, Outliers and Boxplots"
   ]
  },
  {
   "cell_type": "code",
   "execution_count": 187,
   "metadata": {},
   "outputs": [],
   "source": [
    "# Calculate the final tumor volume of each mouse across four of the treatment regimens:  \n",
    "# Capomulin, Ramicane, Infubinol, and Ceftamin\n",
    "# Start by getting the last (greatest) timepoint for each mouse\n",
    "# Merge this group df with the original dataframe to get the tumor volume at the last timepoint\n",
    "\n",
    "combine_data_copy = combine_data.copy()\n",
    "#combine_data_copy\n",
    "# Delete the unnecessary columns \n",
    "del combine_data_copy[\"Sex\"]\n",
    "del combine_data_copy[\"Age_months\"]\n",
    "del combine_data_copy[\"Weight (g)\"]\n",
    "del combine_data_copy[\"Metastatic Sites\"]\n",
    "#combine_data_copy\n",
    "\n",
    "final_tumor_volume_df = combine_data_copy.groupby(\"Mouse ID\").last().set_index(\"Drug Regimen\")\n",
    "#final_tumor_volume_df\n",
    "\n",
    "del final_tumor_volume_df[\"Timepoint\"]\n",
    "#final_tumor_volume_df\n",
    "\n",
    "# For instances of their final tumor volume\n",
    "capomulin = final_tumor_volume_df.loc[\"Capomulin\"]\n",
    "ramicane = final_tumor_volume_df.loc[\"Ramicane\"]\n",
    "infubinol = final_tumor_volume_df.loc[\"Infubinol\"]\n",
    "ceftamin = final_tumor_volume_df.loc[\"Ceftamin\"]\n",
    "\n",
    "# Calculate the IQR and quantitatively determine if there are any potential outliers.\n",
    "# Capomulin\n",
    "capomulin_min = capomulin.min()\n",
    "capomulin_max = capomulin.max()\n",
    "capomulin_quartiles = capomulin[\"Tumor Volume (mm3)\"].quantile([0.25,0.5,0.75])\n",
    "capomulin_lowerq = capomulin_quartiles[0.25]\n",
    "capomulin_upperq = capomulin_quartiles[0.75]\n",
    "capomulin_iqr = capomulin_upperq-capomulin_lowerq\n",
    "capomulin_lower_bound = capomulin_lowerq - (1.5*capomulin_iqr)\n",
    "capomulin_upper_bound = capomulin_upperq + (1.5*capomulin_iqr)\n",
    "# Ramicane\n",
    "ramicane_min = ramicane.min()\n",
    "ramicane_max = ramicane.max()\n",
    "ramicane_quartiles = ramicane[\"Tumor Volume (mm3)\"].quantile([0.25,0.5,0.75])\n",
    "ramicane_lowerq = ramicane_quartiles[0.25]\n",
    "ramicane_upperq = ramicane_quartiles[0.75]\n",
    "ramicane_iqr = ramicane_upperq-ramicane_lowerq\n",
    "ramicane_lower_bound = ramicane_lowerq - (1.5*ramicane_iqr)\n",
    "ramicane_upper_bound = ramicane_upperq + (1.5*ramicane_iqr)\n",
    "# Infubinol\n",
    "infubinol_min = infubinol.min()\n",
    "infubinol_max = infubinol.max()\n",
    "infubinol_quartiles = infubinol[\"Tumor Volume (mm3)\"].quantile([0.25,0.5,0.75])\n",
    "infubinol_lowerq = infubinol_quartiles[0.25]\n",
    "infubinol_upperq = infubinol_quartiles[0.75]\n",
    "infubinol_iqr = infubinol_upperq-infubinol_lowerq\n",
    "infubinol_lower_bound = infubinol_lowerq - (1.5*infubinol_iqr)\n",
    "infubinol_upper_bound = infubinol_upperq + (1.5*infubinol_iqr)\n",
    "# Ceftamin\n",
    "ceftamin_min = ceftamin.min()\n",
    "ceftamin_max = ceftamin.max()\n",
    "ceftamin_quartiles = ceftamin[\"Tumor Volume (mm3)\"].quantile([0.25,0.5,0.75])\n",
    "ceftamin_lowerq = ceftamin_quartiles[0.25]\n",
    "ceftamin_upperq = ceftamin_quartiles[0.75]\n",
    "ceftamin_iqr = ceftamin_upperq-ceftamin_lowerq\n",
    "ceftamin_lower_bound = ceftamin_lowerq - (1.5*ceftamin_iqr)\n",
    "ceftamin_upper_bound = ceftamin_upperq + (1.5*ceftamin_iqr)"
   ]
  },
  {
   "cell_type": "code",
   "execution_count": 188,
   "metadata": {},
   "outputs": [
    {
     "name": "stdout",
     "output_type": "stream",
     "text": [
      "The IQR for Capomulin is: 7.782\n",
      "The lower bound for Capomulin is 20.705; values below this may be outliers.\n",
      "The upper bound for Capomulin is 51.832; values above this may be outliers.\n",
      "\n",
      "The IQR for Ramicane is: 9.099\n",
      "The lower bound for Ramicane is 17.913; values below this may be outliers.\n",
      "The upper bound for Ramicane is 54.307; values above this may be outliers.\n",
      "\n",
      "The IQR for Infubinol is: 11.477\n",
      "The lower bound for Infubinol is 36.833; values below this may be outliers.\n",
      "The upper bound for Infubinol is 82.741; values above this may be outliers.\n",
      "\n",
      "The IQR for Ceftamin is: 15.578\n",
      "The lower bound for Ceftamin is 25.355; values below this may be outliers.\n",
      "The upper bound for Ceftamin is 87.666; values above this may be outliers.\n"
     ]
    }
   ],
   "source": [
    "print(f\"The IQR for Capomulin is: {round(capomulin_iqr, 3)}\")\n",
    "print(f\"The lower bound for Capomulin is {round(capomulin_lower_bound, 3)}; values below this may be outliers.\")\n",
    "print(f\"The upper bound for Capomulin is {round(capomulin_upper_bound, 3)}; values above this may be outliers.\"\"\\n\")\n",
    "\n",
    "print(f\"The IQR for Ramicane is: {round(ramicane_iqr, 3)}\")\n",
    "print(f\"The lower bound for Ramicane is {round(ramicane_lower_bound, 3)}; values below this may be outliers.\")\n",
    "print(f\"The upper bound for Ramicane is {round(ramicane_upper_bound, 3)}; values above this may be outliers.\"\"\\n\")\n",
    "\n",
    "print(f\"The IQR for Infubinol is: {round(infubinol_iqr, 3)}\")\n",
    "print(f\"The lower bound for Infubinol is {round(infubinol_lower_bound, 3)}; values below this may be outliers.\")\n",
    "print(f\"The upper bound for Infubinol is {round(infubinol_upper_bound, 3)}; values above this may be outliers.\"\"\\n\")\n",
    "\n",
    "print(f\"The IQR for Ceftamin is: {round(ceftamin_iqr, 3)}\")\n",
    "print(f\"The lower bound for Ceftamin is {round(ceftamin_lower_bound, 3)}; values below this may be outliers.\")\n",
    "print(f\"The upper bound for Ceftamin is {round(ceftamin_upper_bound, 3)}; values above this may be outliers.\")"
   ]
  },
  {
   "cell_type": "code",
   "execution_count": 189,
   "metadata": {},
   "outputs": [
    {
     "name": "stderr",
     "output_type": "stream",
     "text": [
      "/var/folders/qh/44677dhj5kv978487x28nvmm0000gn/T/ipykernel_35342/4268525067.py:6: UserWarning: FixedFormatter should only be used together with FixedLocator\n",
      "  ax1.set_xticklabels([\"Capomulin\", \"Ramicane\", \"Infubinol\", \"Ceftamin\"])\n"
     ]
    },
    {
     "data": {
      "text/plain": [
       "{'whiskers': [<matplotlib.lines.Line2D at 0x7f9383ba17f0>,\n",
       "  <matplotlib.lines.Line2D at 0x7f9383ba16a0>,\n",
       "  <matplotlib.lines.Line2D at 0x7f9383ba5100>,\n",
       "  <matplotlib.lines.Line2D at 0x7f9383ba5fd0>,\n",
       "  <matplotlib.lines.Line2D at 0x7f939109a160>,\n",
       "  <matplotlib.lines.Line2D at 0x7f939109a430>,\n",
       "  <matplotlib.lines.Line2D at 0x7f9383bad0d0>,\n",
       "  <matplotlib.lines.Line2D at 0x7f9383badc40>],\n",
       " 'caps': [<matplotlib.lines.Line2D at 0x7f936054b370>,\n",
       "  <matplotlib.lines.Line2D at 0x7f936054b280>,\n",
       "  <matplotlib.lines.Line2D at 0x7f9383ba5df0>,\n",
       "  <matplotlib.lines.Line2D at 0x7f9383b96730>,\n",
       "  <matplotlib.lines.Line2D at 0x7f939109af70>,\n",
       "  <matplotlib.lines.Line2D at 0x7f939109a940>,\n",
       "  <matplotlib.lines.Line2D at 0x7f93604f3ca0>,\n",
       "  <matplotlib.lines.Line2D at 0x7f93604f3970>],\n",
       " 'boxes': [<matplotlib.lines.Line2D at 0x7f937050d8b0>,\n",
       "  <matplotlib.lines.Line2D at 0x7f9383ba5940>,\n",
       "  <matplotlib.lines.Line2D at 0x7f9383b969a0>,\n",
       "  <matplotlib.lines.Line2D at 0x7f9383badca0>],\n",
       " 'medians': [<matplotlib.lines.Line2D at 0x7f9360562f70>,\n",
       "  <matplotlib.lines.Line2D at 0x7f9383b96700>,\n",
       "  <matplotlib.lines.Line2D at 0x7f9390c619a0>,\n",
       "  <matplotlib.lines.Line2D at 0x7f93604f3c70>],\n",
       " 'fliers': [<matplotlib.lines.Line2D at 0x7f9383ba53d0>,\n",
       "  <matplotlib.lines.Line2D at 0x7f9383b96df0>,\n",
       "  <matplotlib.lines.Line2D at 0x7f9383bad550>,\n",
       "  <matplotlib.lines.Line2D at 0x7f9383bb6550>],\n",
       " 'means': []}"
      ]
     },
     "execution_count": 189,
     "metadata": {},
     "output_type": "execute_result"
    },
    {
     "data": {
      "image/png": "[encoded data removed]",
      "text/plain": [
       "<Figure size 432x288 with 1 Axes>"
      ]
     },
     "metadata": {
      "needs_background": "light"
     },
     "output_type": "display_data"
    }
   ],
   "source": [
    "# Generate a box plot of the final tumor volume of each mouse across four regimens of interest\n",
    "fig1, ax1 = plt.subplots()\n",
    "ax1.set_title(\"Final Tumor Volume of Each Mouse\")\n",
    "ax1.set_ylabel(\"Tumor Volume (mm3)\")\n",
    "ax1.set_xlabel(\"Regimens of Interest\")\n",
    "ax1.set_xticklabels([\"Capomulin\", \"Ramicane\", \"Infubinol\", \"Ceftamin\"])\n",
    "flierprops_capomulin = dict(marker = \"o\", markerfacecolor = \"red\", markersize = 10, markeredgecolor = \"black\")\n",
    "# Combine our data into one variable to hold the four regimens of interest.\n",
    "four_regimens = [capomulin[\"Tumor Volume (mm3)\"], ramicane[\"Tumor Volume (mm3)\"], \n",
    "                 infubinol[\"Tumor Volume (mm3)\"], ceftamin[\"Tumor Volume (mm3)\"]]\n",
    "ax1.boxplot(four_regimens, flierprops = flierprops_capomulin)"
   ]
  },
  {
   "cell_type": "markdown",
   "metadata": {},
   "source": [
    "## Line and Scatter Plots"
   ]
  },
  {
   "cell_type": "code",
   "execution_count": 191,
   "metadata": {},
   "outputs": [
    {
     "data": {
      "text/plain": [
       "Text(0.5, 1.0, 'Capomulin treatment of mouse s185')"
      ]
     },
     "execution_count": 191,
     "metadata": {},
     "output_type": "execute_result"
    },
    {
     "data": {
      "image/png": "[encoded data removed]",
      "text/plain": [
       "<Figure size 432x288 with 1 Axes>"
      ]
     },
     "metadata": {
      "needs_background": "light"
     },
     "output_type": "display_data"
    }
   ],
   "source": [
    "# Generate a line plot of tumor volume vs. time point for a mouse treated with Capomulin\n",
    "line_plot_df = final_tumor_volume_df.loc[\"Capomulin\", :]\n",
    "\n",
    "# For mouse s185\n",
    "x_axis = [0, 5, 10, 15, 20, 25, 30, 35, 40, 45]\n",
    "y_axis = [45.000000, 43.878496, 37.614948, 38.177232, 36.866876, \n",
    "          33.949940, 32.959671, 28.328531, 25.472143, 23.343598]\n",
    "plt.plot(x_axis, y_axis)\n",
    "plt.xlabel(\"Timepoint (days)\")\n",
    "plt.ylabel(\"Tumor Volume (mm3)\")\n",
    "plt.title(\"Capomulin treatment of mouse s185\")"
   ]
  },
  {
   "cell_type": "code",
   "execution_count": 193,
   "metadata": {},
   "outputs": [
    {
     "data": {
      "text/plain": [
       "Text(0, 0.5, 'Tumor Volume (mm3)')"
      ]
     },
     "execution_count": 193,
     "metadata": {},
     "output_type": "execute_result"
    },
    {
     "data": {
      "image/png": "[encoded data removed]",
      "text/plain": [
       "<Figure size 432x288 with 1 Axes>"
      ]
     },
     "metadata": {
      "needs_background": "light"
     },
     "output_type": "display_data"
    }
   ],
   "source": [
    "# Generate a scatter plot of average tumor volume vs. average mouse weight of each mouse treated with the Capomulin regimen\n",
    "scatter_plot_df = combine_data.groupby([\"Drug Regimen\", \"Mouse ID\"]).mean().loc[\"Capomulin\"]\n",
    "# Delete the extra columns\n",
    "del scatter_plot_df[\"Age_months\"]\n",
    "del scatter_plot_df[\"Timepoint\"]\n",
    "del scatter_plot_df[\"Metastatic Sites\"]\n",
    "mouse_weight = scatter_plot_df.reset_index().drop(columns = [\"Mouse ID\"]).loc[:, \"Weight (g)\"]\n",
    "mouse_weight_list = mouse_weight.values.tolist()\n",
    "tumor_volume = scatter_plot_df.reset_index().drop(columns = [\"Mouse ID\"]).loc[:, \"Tumor Volume (mm3)\"]\n",
    "tumor_volume_list = tumor_volume.values.tolist()\n",
    "plt.scatter(mouse_weight_list, tumor_volume_list, marker = \"o\", facecolors = \"blue\", edgecolors = \"black\")\n",
    "# Create a title, x label, and y label \n",
    "plt.title(\"average tumor volume vs. average mouse weight (Capomulin treatment)\")\n",
    "plt.xlabel(\"Weight (g)\")\n",
    "plt.ylabel(\"Tumor Volume (mm3)\")\n"
   ]
  },
  {
   "cell_type": "markdown",
   "metadata": {},
   "source": [
    "## Correlation and Regression"
   ]
  },
  {
   "cell_type": "code",
   "execution_count": 195,
   "metadata": {},
   "outputs": [
    {
     "name": "stdout",
     "output_type": "stream",
     "text": [
      "The correlation between mouse weight and the average tumor volume is 0.84.\n"
     ]
    },
    {
     "data": {
      "text/plain": [
       "[<matplotlib.lines.Line2D at 0x7f9383b8e2e0>]"
      ]
     },
     "execution_count": 195,
     "metadata": {},
     "output_type": "execute_result"
    },
    {
     "data": {
      "image/png": "[encoded data removed]",
      "text/plain": [
       "<Figure size 432x288 with 1 Axes>"
      ]
     },
     "metadata": {
      "needs_background": "light"
     },
     "output_type": "display_data"
    }
   ],
   "source": [
    "# Calculate the correlation coefficient and linear regression model \n",
    "# for mouse weight and average tumor volume for the Capomulin regimen\n",
    "plt.scatter(mouse_weight_list, tumor_volume_list, marker = \"o\", facecolors = \"blue\", edgecolors = \"black\")\n",
    "# Create a title, x label, and y label for our chart.\n",
    "plt.title(\"Mouse Weight versus Average Tumor Volume - Capomulin Regimen\")\n",
    "plt.xlabel(\"Weight (g)\")\n",
    "plt.ylabel(\"Tumor Volume (mm3)\")\n",
    "# Calculate the correlation coefficient and linear regression model\n",
    "x = scatter_plot_df.loc[:, \"Weight (g)\"]\n",
    "y = scatter_plot_df.loc[:, \"Tumor Volume (mm3)\"]\n",
    "correlation_coefficient = st.pearsonr(x, y)\n",
    "print(f\"The correlation between mouse weight and the average tumor volume is {round(correlation_coefficient[0],2)}.\")\n",
    "# Plot the linear regression model on top of the previous scatter plot.\n",
    "y_slope, y_int, y_r, y_p, y_std_err = st.linregress(x, y)\n",
    "y_fit = y_slope * x + y_int\n",
    "plt.plot(x,y_fit)"
   ]
  },
  {
   "cell_type": "code",
   "execution_count": null,
   "metadata": {},
   "outputs": [],
   "source": [
    "# Final Analysis \n",
    "# Capomulin and Ramicane were used visibly more often than the rest of the treatment/drug regimens, as can be seen in the bar plot below In [7]. This may very well be because the Mean Tumor Volume for both of these were near 40 millimeters cubed, while the other eight regimens' Mean Tumor Volume hovered above 50 mm cubed. It was more successful, and I suppose that because of that, it warranted more uses.\n",
    "# There were roughly (give or take two percentage points) the same number of female and male mice. This must have been purposely done, so as to not introduce a potentially confounding variable into Tumor Volume. Sex could have been a factor in this, but it was made a non-factor.\n",
    "# For mouse s185, the tumor volume almost halved over the entire timepoint. This is for one mouse, but this must have been very promising to see.\n",
    "# In order for us to say that there is a strong association or relationship between mouse weight and tumor volume, correlation typically has to be above 0.8. The correlation coefficient below is 0.84, which is above that threshold. This means that there is significant correlation between these two variables. It, of course, does not imply causation."
   ]
  }
 ],
 "metadata": {
  "anaconda-cloud": {},
  "kernelspec": {
   "display_name": "Python 3 (ipykernel)",
   "language": "python",
   "name": "python3"
  },
  "language_info": {
   "codemirror_mode": {
    "name": "ipython",
    "version": 3
   },
   "file_extension": ".py",
   "mimetype": "text/x-python",
   "name": "python",
   "nbconvert_exporter": "python",
   "pygments_lexer": "ipython3",
   "version": "3.8.12"
  }
 },
 "nbformat": 4,
 "nbformat_minor": 4
}
